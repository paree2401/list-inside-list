{
 "cells": [
  {
   "cell_type": "code",
   "execution_count": 9,
   "id": "814cd4fb",
   "metadata": {},
   "outputs": [],
   "source": [
    "y=[]"
   ]
  },
  {
   "cell_type": "code",
   "execution_count": 10,
   "id": "fa908939",
   "metadata": {},
   "outputs": [],
   "source": [
    "y.extend([12,45,89,78,45,68,41,25,96,33])"
   ]
  },
  {
   "cell_type": "code",
   "execution_count": 11,
   "id": "1509e7a4",
   "metadata": {},
   "outputs": [
    {
     "data": {
      "text/plain": [
       "[12, 45, 89, 78, 45, 68, 41, 25, 96, 33]"
      ]
     },
     "execution_count": 11,
     "metadata": {},
     "output_type": "execute_result"
    }
   ],
   "source": [
    "y"
   ]
  },
  {
   "cell_type": "code",
   "execution_count": 12,
   "id": "95f469d7",
   "metadata": {},
   "outputs": [],
   "source": [
    "y.append(list())"
   ]
  },
  {
   "cell_type": "code",
   "execution_count": 13,
   "id": "bdd6071d",
   "metadata": {},
   "outputs": [
    {
     "data": {
      "text/plain": [
       "[12, 45, 89, 78, 45, 68, 41, 25, 96, 33, []]"
      ]
     },
     "execution_count": 13,
     "metadata": {},
     "output_type": "execute_result"
    }
   ],
   "source": [
    "y"
   ]
  },
  {
   "cell_type": "code",
   "execution_count": 16,
   "id": "48583394",
   "metadata": {},
   "outputs": [],
   "source": [
    "y[10].extend([63,55,87])"
   ]
  },
  {
   "cell_type": "code",
   "execution_count": 17,
   "id": "066b6f31",
   "metadata": {},
   "outputs": [
    {
     "data": {
      "text/plain": [
       "[12, 45, 89, 78, 45, 68, 41, 25, 96, 33, [63, 55, 87]]"
      ]
     },
     "execution_count": 17,
     "metadata": {},
     "output_type": "execute_result"
    }
   ],
   "source": [
    "y"
   ]
  },
  {
   "cell_type": "code",
   "execution_count": 20,
   "id": "423a34ea",
   "metadata": {},
   "outputs": [],
   "source": [
    "y[10].append(list())"
   ]
  },
  {
   "cell_type": "code",
   "execution_count": 21,
   "id": "a5f582b9",
   "metadata": {},
   "outputs": [
    {
     "data": {
      "text/plain": [
       "[12, 45, 89, 78, 45, 68, 41, 25, 96, 33, [63, 55, 87, []]]"
      ]
     },
     "execution_count": 21,
     "metadata": {},
     "output_type": "execute_result"
    }
   ],
   "source": [
    "y"
   ]
  },
  {
   "cell_type": "code",
   "execution_count": 22,
   "id": "1e8ab592",
   "metadata": {},
   "outputs": [],
   "source": [
    "y[10][3].extend([44,33])"
   ]
  },
  {
   "cell_type": "code",
   "execution_count": 23,
   "id": "5f5b1c61",
   "metadata": {},
   "outputs": [
    {
     "data": {
      "text/plain": [
       "[12, 45, 89, 78, 45, 68, 41, 25, 96, 33, [63, 55, 87, [44, 33]]]"
      ]
     },
     "execution_count": 23,
     "metadata": {},
     "output_type": "execute_result"
    }
   ],
   "source": [
    "y"
   ]
  },
  {
   "cell_type": "code",
   "execution_count": 24,
   "id": "2b9d9e46",
   "metadata": {},
   "outputs": [],
   "source": [
    "y[10][3].append(dict())"
   ]
  },
  {
   "cell_type": "code",
   "execution_count": 25,
   "id": "cdc9e0da",
   "metadata": {},
   "outputs": [
    {
     "data": {
      "text/plain": [
       "[12, 45, 89, 78, 45, 68, 41, 25, 96, 33, [63, 55, 87, [44, 33, {}]]]"
      ]
     },
     "execution_count": 25,
     "metadata": {},
     "output_type": "execute_result"
    }
   ],
   "source": [
    "y"
   ]
  },
  {
   "cell_type": "code",
   "execution_count": 26,
   "id": "f591d047",
   "metadata": {},
   "outputs": [],
   "source": [
    "y[10][3][2][\"raju\"]=26"
   ]
  },
  {
   "cell_type": "code",
   "execution_count": 27,
   "id": "d29a4e6f",
   "metadata": {},
   "outputs": [],
   "source": [
    "y[10][3][2][\"kaju\"]=25"
   ]
  },
  {
   "cell_type": "code",
   "execution_count": 29,
   "id": "f02e13cd",
   "metadata": {},
   "outputs": [
    {
     "name": "stdout",
     "output_type": "stream",
     "text": [
      "[12, 45, 89, 78, 45, 68, 41, 25, 96, 33, [63, 55, 87, [44, 33, {'raju': 26, 'kaju': 25}]]]\n"
     ]
    }
   ],
   "source": [
    "print(y)"
   ]
  },
  {
   "cell_type": "code",
   "execution_count": 31,
   "id": "7e1eb260",
   "metadata": {},
   "outputs": [],
   "source": [
    "y[10][3][2][\"string\"]=list()"
   ]
  },
  {
   "cell_type": "code",
   "execution_count": 33,
   "id": "e99b14ae",
   "metadata": {},
   "outputs": [
    {
     "name": "stdout",
     "output_type": "stream",
     "text": [
      "[12, 45, 89, 78, 45, 68, 41, 25, 96, 33, [63, 55, 87, [44, 33, {'raju': 26, 'kaju': 25, 'string': []}]]]\n"
     ]
    }
   ],
   "source": [
    "print(y)"
   ]
  },
  {
   "cell_type": "code",
   "execution_count": 34,
   "id": "473e7156",
   "metadata": {},
   "outputs": [],
   "source": [
    "y[10][3][2][\"string\"]=58"
   ]
  },
  {
   "cell_type": "code",
   "execution_count": 36,
   "id": "32b3c0f2",
   "metadata": {},
   "outputs": [
    {
     "name": "stdout",
     "output_type": "stream",
     "text": [
      "[12, 45, 89, 78, 45, 68, 41, 25, 96, 33, [63, 55, 87, [44, 33, {'raju': 26, 'kaju': 25, 'string': 58}]]]\n"
     ]
    }
   ],
   "source": [
    "print(y)"
   ]
  },
  {
   "cell_type": "code",
   "execution_count": 37,
   "id": "80082d6a",
   "metadata": {},
   "outputs": [],
   "source": [
    "y[10][3][2][\"gaju\"]=list()"
   ]
  },
  {
   "cell_type": "code",
   "execution_count": 38,
   "id": "79d2d292",
   "metadata": {},
   "outputs": [
    {
     "name": "stdout",
     "output_type": "stream",
     "text": [
      "[12, 45, 89, 78, 45, 68, 41, 25, 96, 33, [63, 55, 87, [44, 33, {'raju': 26, 'kaju': 25, 'string': 58, 'gaju': []}]]]\n"
     ]
    }
   ],
   "source": [
    "print(y)"
   ]
  },
  {
   "cell_type": "code",
   "execution_count": 39,
   "id": "5669d6c8",
   "metadata": {},
   "outputs": [],
   "source": [
    "y[10][3][2][\"gaju\"].append(22)"
   ]
  },
  {
   "cell_type": "code",
   "execution_count": 40,
   "id": "41512baf",
   "metadata": {},
   "outputs": [
    {
     "name": "stdout",
     "output_type": "stream",
     "text": [
      "[12, 45, 89, 78, 45, 68, 41, 25, 96, 33, [63, 55, 87, [44, 33, {'raju': 26, 'kaju': 25, 'string': 58, 'gaju': [22]}]]]\n"
     ]
    }
   ],
   "source": [
    "print(y)"
   ]
  },
  {
   "cell_type": "code",
   "execution_count": null,
   "id": "272c0f25",
   "metadata": {},
   "outputs": [],
   "source": []
  }
 ],
 "metadata": {
  "kernelspec": {
   "display_name": "Python 3 (ipykernel)",
   "language": "python",
   "name": "python3"
  },
  "language_info": {
   "codemirror_mode": {
    "name": "ipython",
    "version": 3
   },
   "file_extension": ".py",
   "mimetype": "text/x-python",
   "name": "python",
   "nbconvert_exporter": "python",
   "pygments_lexer": "ipython3",
   "version": "3.9.13"
  }
 },
 "nbformat": 4,
 "nbformat_minor": 5
}
